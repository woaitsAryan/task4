{
 "cells": [
  {
   "cell_type": "code",
   "execution_count": 1,
   "metadata": {},
   "outputs": [],
   "source": [
    "import csv"
   ]
  },
  {
   "cell_type": "code",
   "execution_count": 2,
   "metadata": {},
   "outputs": [],
   "source": [
    "def run():\n",
    "    dataset = []\n",
    "    with open(\"data.csv\", 'r') as csvfile:\n",
    "        csvreader = csv.reader(csvfile)\n",
    "        fields = next(csvreader)\n",
    "        for row in csvreader:\n",
    "            dataset.append(row)\n",
    "    maxvalue = int(dataset[2][1])\n",
    "    minvalue = int(dataset[2][1])\n",
    "    totalsum = 0\n",
    "    length = len(dataset)\n",
    "    mindate, maxdate = None, None\n",
    "    for i in range(length):\n",
    "        value = int(dataset[i][1])\n",
    "        if maxvalue is not None and (minvalue is None or value < minvalue):\n",
    "            minvalue = value\n",
    "            mindate = dataset[i][0]\n",
    "        if maxvalue is None or value > maxvalue:\n",
    "            maxvalue = value\n",
    "            maxdate = dataset[i][0]\n",
    "        totalsum = totalsum + value\n",
    "    average = round(totalsum/length)\n",
    "    \n",
    "    return {\"average\":average,\"minvalue\":minvalue,\"maxvalue\":maxvalue, \"mindate\" : mindate, \"maxdate\": maxdate}"
   ]
  }
 ],
 "metadata": {
  "kernelspec": {
   "display_name": "Python 3",
   "language": "python",
   "name": "python3"
  },
  "language_info": {
   "codemirror_mode": {
    "name": "ipython",
    "version": 3
   },
   "file_extension": ".py",
   "mimetype": "text/x-python",
   "name": "python",
   "nbconvert_exporter": "python",
   "pygments_lexer": "ipython3",
   "version": "3.9.5"
  },
  "orig_nbformat": 4
 },
 "nbformat": 4,
 "nbformat_minor": 2
}
